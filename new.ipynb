{
 "cells": [
  {
   "cell_type": "code",
   "execution_count": 1,
   "metadata": {},
   "outputs": [],
   "source": [
    "import pandas as pd\n",
    "import numpy as np\n",
    "df = pd.read_csv(\"D:\\DA\\projects\\Car_Price_Prediction\\encodeddata.csv\")"
   ]
  },
  {
   "cell_type": "code",
   "execution_count": 2,
   "metadata": {},
   "outputs": [],
   "source": [
    " #vc = df[\"Make\"].value_counts()"
   ]
  },
  {
   "cell_type": "code",
   "execution_count": 3,
   "metadata": {},
   "outputs": [],
   "source": [
    "#vc.unique()"
   ]
  },
  {
   "cell_type": "code",
   "execution_count": 7,
   "metadata": {},
   "outputs": [
    {
     "data": {
      "text/plain": [
       "<bound method DataFrame.duplicated of           Make  Make_encode\n",
       "0          BMW            4\n",
       "1          BMW            4\n",
       "2          BMW            4\n",
       "3          BMW            4\n",
       "4          BMW            4\n",
       "...        ...          ...\n",
       "11909    Acura            0\n",
       "11910    Acura            0\n",
       "11911    Acura            0\n",
       "11912    Acura            0\n",
       "11913  Lincoln           25\n",
       "\n",
       "[11914 rows x 2 columns]>"
      ]
     },
     "execution_count": 7,
     "metadata": {},
     "output_type": "execute_result"
    }
   ],
   "source": [
    "df[[\"Make\",\"Make_encode\"]].duplicated"
   ]
  },
  {
   "cell_type": "code",
   "execution_count": 8,
   "metadata": {},
   "outputs": [],
   "source": [
    "make_encode = df[[\"Make\",\"Make_encode\"]].drop_duplicates()"
   ]
  },
  {
   "cell_type": "code",
   "execution_count": 9,
   "metadata": {},
   "outputs": [
    {
     "ename": "KeyError",
     "evalue": "\"['Model_Engine Fuel Type'] not in index\"",
     "output_type": "error",
     "traceback": [
      "\u001b[1;31m---------------------------------------------------------------------------\u001b[0m",
      "\u001b[1;31mKeyError\u001b[0m                                  Traceback (most recent call last)",
      "\u001b[1;32md:\\DA\\projects\\Car_Price_Prediction\\new.ipynb Cell 6\u001b[0m line \u001b[0;36m5\n\u001b[0;32m      <a href='vscode-notebook-cell:/d%3A/DA/projects/Car_Price_Prediction/new.ipynb#W5sZmlsZQ%3D%3D?line=0'>1</a>\u001b[0m make_encode\u001b[39m=\u001b[39mdf[[\u001b[39m'\u001b[39m\u001b[39mMake\u001b[39m\u001b[39m'\u001b[39m,\u001b[39m'\u001b[39m\u001b[39mMake_encode\u001b[39m\u001b[39m'\u001b[39m,]]\u001b[39m.\u001b[39mdrop_duplicates()\n\u001b[0;32m      <a href='vscode-notebook-cell:/d%3A/DA/projects/Car_Price_Prediction/new.ipynb#W5sZmlsZQ%3D%3D?line=2'>3</a>\u001b[0m model_encode\u001b[39m=\u001b[39mdf[[\u001b[39m'\u001b[39m\u001b[39mModel\u001b[39m\u001b[39m'\u001b[39m,\u001b[39m'\u001b[39m\u001b[39mModel_encode\u001b[39m\u001b[39m'\u001b[39m,]]\u001b[39m.\u001b[39mdrop_duplicates()\n\u001b[1;32m----> <a href='vscode-notebook-cell:/d%3A/DA/projects/Car_Price_Prediction/new.ipynb#W5sZmlsZQ%3D%3D?line=4'>5</a>\u001b[0m eft_encode\u001b[39m=\u001b[39mdf[[\u001b[39m'\u001b[39;49m\u001b[39mEngine Fuel Type\u001b[39;49m\u001b[39m'\u001b[39;49m,\u001b[39m'\u001b[39;49m\u001b[39mModel_Engine Fuel Type\u001b[39;49m\u001b[39m'\u001b[39;49m,]]\u001b[39m.\u001b[39mdrop_duplicates()\n\u001b[0;32m      <a href='vscode-notebook-cell:/d%3A/DA/projects/Car_Price_Prediction/new.ipynb#W5sZmlsZQ%3D%3D?line=6'>7</a>\u001b[0m tt_encode\u001b[39m=\u001b[39mdf[[\u001b[39m'\u001b[39m\u001b[39mTransmission Type\u001b[39m\u001b[39m'\u001b[39m,\u001b[39m'\u001b[39m\u001b[39mModel_Transmission_Type\u001b[39m\u001b[39m'\u001b[39m,]]\u001b[39m.\u001b[39mdrop_duplicates()\n\u001b[0;32m      <a href='vscode-notebook-cell:/d%3A/DA/projects/Car_Price_Prediction/new.ipynb#W5sZmlsZQ%3D%3D?line=8'>9</a>\u001b[0m dw_encode\u001b[39m=\u001b[39mdf[[\u001b[39m'\u001b[39m\u001b[39mDriven_Wheels\u001b[39m\u001b[39m'\u001b[39m,\u001b[39m'\u001b[39m\u001b[39mModel_Driven_Wheels\u001b[39m\u001b[39m'\u001b[39m,]]\u001b[39m.\u001b[39mdrop_duplicates()\n",
      "File \u001b[1;32mc:\\Users\\HP\\AppData\\Local\\Programs\\Python\\Python311\\Lib\\site-packages\\pandas\\core\\frame.py:3902\u001b[0m, in \u001b[0;36mDataFrame.__getitem__\u001b[1;34m(self, key)\u001b[0m\n\u001b[0;32m   3900\u001b[0m     \u001b[39mif\u001b[39;00m is_iterator(key):\n\u001b[0;32m   3901\u001b[0m         key \u001b[39m=\u001b[39m \u001b[39mlist\u001b[39m(key)\n\u001b[1;32m-> 3902\u001b[0m     indexer \u001b[39m=\u001b[39m \u001b[39mself\u001b[39;49m\u001b[39m.\u001b[39;49mcolumns\u001b[39m.\u001b[39;49m_get_indexer_strict(key, \u001b[39m\"\u001b[39;49m\u001b[39mcolumns\u001b[39;49m\u001b[39m\"\u001b[39;49m)[\u001b[39m1\u001b[39m]\n\u001b[0;32m   3904\u001b[0m \u001b[39m# take() does not accept boolean indexers\u001b[39;00m\n\u001b[0;32m   3905\u001b[0m \u001b[39mif\u001b[39;00m \u001b[39mgetattr\u001b[39m(indexer, \u001b[39m\"\u001b[39m\u001b[39mdtype\u001b[39m\u001b[39m\"\u001b[39m, \u001b[39mNone\u001b[39;00m) \u001b[39m==\u001b[39m \u001b[39mbool\u001b[39m:\n",
      "File \u001b[1;32mc:\\Users\\HP\\AppData\\Local\\Programs\\Python\\Python311\\Lib\\site-packages\\pandas\\core\\indexes\\base.py:6114\u001b[0m, in \u001b[0;36mIndex._get_indexer_strict\u001b[1;34m(self, key, axis_name)\u001b[0m\n\u001b[0;32m   6111\u001b[0m \u001b[39melse\u001b[39;00m:\n\u001b[0;32m   6112\u001b[0m     keyarr, indexer, new_indexer \u001b[39m=\u001b[39m \u001b[39mself\u001b[39m\u001b[39m.\u001b[39m_reindex_non_unique(keyarr)\n\u001b[1;32m-> 6114\u001b[0m \u001b[39mself\u001b[39;49m\u001b[39m.\u001b[39;49m_raise_if_missing(keyarr, indexer, axis_name)\n\u001b[0;32m   6116\u001b[0m keyarr \u001b[39m=\u001b[39m \u001b[39mself\u001b[39m\u001b[39m.\u001b[39mtake(indexer)\n\u001b[0;32m   6117\u001b[0m \u001b[39mif\u001b[39;00m \u001b[39misinstance\u001b[39m(key, Index):\n\u001b[0;32m   6118\u001b[0m     \u001b[39m# GH 42790 - Preserve name from an Index\u001b[39;00m\n",
      "File \u001b[1;32mc:\\Users\\HP\\AppData\\Local\\Programs\\Python\\Python311\\Lib\\site-packages\\pandas\\core\\indexes\\base.py:6178\u001b[0m, in \u001b[0;36mIndex._raise_if_missing\u001b[1;34m(self, key, indexer, axis_name)\u001b[0m\n\u001b[0;32m   6175\u001b[0m     \u001b[39mraise\u001b[39;00m \u001b[39mKeyError\u001b[39;00m(\u001b[39mf\u001b[39m\u001b[39m\"\u001b[39m\u001b[39mNone of [\u001b[39m\u001b[39m{\u001b[39;00mkey\u001b[39m}\u001b[39;00m\u001b[39m] are in the [\u001b[39m\u001b[39m{\u001b[39;00maxis_name\u001b[39m}\u001b[39;00m\u001b[39m]\u001b[39m\u001b[39m\"\u001b[39m)\n\u001b[0;32m   6177\u001b[0m not_found \u001b[39m=\u001b[39m \u001b[39mlist\u001b[39m(ensure_index(key)[missing_mask\u001b[39m.\u001b[39mnonzero()[\u001b[39m0\u001b[39m]]\u001b[39m.\u001b[39munique())\n\u001b[1;32m-> 6178\u001b[0m \u001b[39mraise\u001b[39;00m \u001b[39mKeyError\u001b[39;00m(\u001b[39mf\u001b[39m\u001b[39m\"\u001b[39m\u001b[39m{\u001b[39;00mnot_found\u001b[39m}\u001b[39;00m\u001b[39m not in index\u001b[39m\u001b[39m\"\u001b[39m)\n",
      "\u001b[1;31mKeyError\u001b[0m: \"['Model_Engine Fuel Type'] not in index\""
     ]
    }
   ],
   "source": [
    "make_encode=df[['Make','Make_encode',]].drop_duplicates()\n",
    "\n",
    "model_encode=df[['Model','Model_encode',]].drop_duplicates()\n",
    "\n",
    "eft_encode=df[['Engine Fuel Type','Model_Engine Fuel Type',]].drop_duplicates()\n",
    "\n",
    "tt_encode=df[['Transmission Type','Model_Transmission_Type',]].drop_duplicates()\n",
    "\n",
    "dw_encode=df[['Driven_Wheels','Model_Driven_Wheels',]].drop_duplicates()\n",
    "\n",
    "vs_encode=df[['Vehicle Style','Vehicle Style_encode',]].drop_duplicates()\n",
    "\n",
    "vsz_encode=df[['Vehicle Size','Vehicle Size_encode',]].drop_duplicates()"
   ]
  },
  {
   "cell_type": "code",
   "execution_count": null,
   "metadata": {},
   "outputs": [],
   "source": []
  }
 ],
 "metadata": {
  "kernelspec": {
   "display_name": "Python 3",
   "language": "python",
   "name": "python3"
  },
  "language_info": {
   "codemirror_mode": {
    "name": "ipython",
    "version": 3
   },
   "file_extension": ".py",
   "mimetype": "text/x-python",
   "name": "python",
   "nbconvert_exporter": "python",
   "pygments_lexer": "ipython3",
   "version": "3.11.4"
  }
 },
 "nbformat": 4,
 "nbformat_minor": 2
}
